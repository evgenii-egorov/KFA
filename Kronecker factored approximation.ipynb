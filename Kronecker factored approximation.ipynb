{
 "cells": [
  {
   "cell_type": "code",
   "execution_count": 0,
   "metadata": {
    "colab": {},
    "colab_type": "code",
    "id": "MOzUZcRxxBU5"
   },
   "outputs": [],
   "source": [
    "import torch\n",
    "import torch.nn as nn\n",
    "import torch.nn.functional as F\n",
    "import torchvision\n",
    "from torchvision import datasets, transforms\n",
    "from torch.autograd import Variable\n",
    "import torch.optim as optim\n",
    "from torch import autograd\n",
    "\n",
    "import os\n",
    "import numpy as np\n",
    "import matplotlib.pyplot as plt\n",
    "from tqdm import tqdm\n",
    "%matplotlib inline"
   ]
  },
  {
   "cell_type": "code",
   "execution_count": 0,
   "metadata": {
    "colab": {},
    "colab_type": "code",
    "id": "YQyLkhmjyIbA"
   },
   "outputs": [],
   "source": [
    "torch.set_default_tensor_type('torch.cuda.FloatTensor')"
   ]
  },
  {
   "cell_type": "code",
   "execution_count": 3,
   "metadata": {
    "colab": {
     "base_uri": "https://localhost:8080/",
     "height": 34
    },
    "colab_type": "code",
    "id": "9YNmAFEmxBVA",
    "outputId": "43b72e0c-a786-4427-b5ca-53c34234a83d"
   },
   "outputs": [
    {
     "data": {
      "text/plain": [
       "<torch._C.Generator at 0x7f0f721be250>"
      ]
     },
     "execution_count": 3,
     "metadata": {
      "tags": []
     },
     "output_type": "execute_result"
    }
   ],
   "source": [
    "n_epochs = 3\n",
    "batch_size_train = 64\n",
    "batch_size_test = 1000\n",
    "learning_rate = 0.01\n",
    "momentum = 0.5\n",
    "log_interval = 100\n",
    "task_number = 50\n",
    "mnist_size = (28, 28)\n",
    "\n",
    "random_seed = 1\n",
    "torch.manual_seed(random_seed)"
   ]
  },
  {
   "cell_type": "code",
   "execution_count": null,
   "metadata": {},
   "outputs": [],
   "source": [
    "import data\n",
    "\n",
    "train_datasets, test_datasets = data.get_datasets(random_seed=random_seed,\n",
    "                                                  task_number=task_number,\n",
    "                                                  batch_size_train=batch_size_train,\n",
    "                                                  batch_size_test=batch_size_test)"
   ]
  },
  {
   "cell_type": "markdown",
   "metadata": {
    "colab_type": "text",
    "id": "FF2TzqrMxBWQ"
   },
   "source": [
    "### K-FA"
   ]
  },
  {
   "cell_type": "code",
   "execution_count": 0,
   "metadata": {
    "colab": {},
    "colab_type": "code",
    "id": "6s54b6kwxgI3"
   },
   "outputs": [],
   "source": [
    "torch.set_default_tensor_type('torch.cuda.FloatTensor')"
   ]
  },
  {
   "cell_type": "code",
   "execution_count": 0,
   "metadata": {
    "colab": {},
    "colab_type": "code",
    "id": "JyI2OlAGxBWR"
   },
   "outputs": [],
   "source": [
    "class KFAModel(nn.Module):\n",
    "    def __init__(self, input_size, output_size,\n",
    "                 hidden_size=100):\n",
    "        super().__init__()\n",
    "        self.input_size = input_size\n",
    "        self.hidden_size = hidden_size\n",
    "        self.output_size = output_size\n",
    "        \n",
    "        \n",
    "        \n",
    "        self.layers = nn.ModuleList([\n",
    "            nn.Linear(self.input_size, self.hidden_size, bias=False), nn.ReLU(),\n",
    "            nn.Linear(self.hidden_size, self.hidden_size, bias=False), nn.ReLU(),\n",
    "            nn.Linear(self.hidden_size, self.output_size, bias=False)\n",
    "        ])\n",
    "        \n",
    "        self.store_factors = False\n",
    "        self.WB_factors = None\n",
    "        \n",
    "        \n",
    "        # factors init\n",
    "        self.Q_factors = []\n",
    "        self.H_factors = []\n",
    "        for layer in self.layers:\n",
    "            if isinstance(layer, nn.Linear):\n",
    "                self.Q_factors.append(torch.zeros(layer.in_features, layer.in_features))\n",
    "                self.H_factors.append(torch.zeros(layer.out_features, layer.out_features))\n",
    "        # optimal weights init with random\n",
    "        self.prev_W = []\n",
    "        for layer in self.layers:\n",
    "            if isinstance(layer, nn.Linear):\n",
    "                self.prev_W.append(layer.weight.data.clone())\n",
    "\n",
    "    def forward(self, inputs):\n",
    "        curr_linear_layer = 0\n",
    "        for layer_ind, layer in enumerate(self.layers):\n",
    "            # add bias before linear layer\n",
    "            #BIAS\n",
    "#             if isinstance(layer, nn.Linear):\n",
    "#                 inputs = torch.cat([inputs, torch.ones(inputs.size(0), 1)],dim=1)\n",
    "            output = layer(inputs)\n",
    "            \n",
    "            if self.store_factors:\n",
    "                if isinstance(layer, nn.Linear):\n",
    "                    \n",
    "                    self.Q_factors[curr_linear_layer] += torch.bmm(inputs.unsqueeze(2).data.clone(),\n",
    "                                                                   inputs.unsqueeze(1).data.clone()).sum(dim=0)\n",
    "                    self.WB_factors[curr_linear_layer] = torch.mm(self.WB_factors[curr_linear_layer],\n",
    "                                                                  layer.weight.transpose(dim0=1, dim1=0).data.clone())\n",
    "                    curr_linear_layer += 1\n",
    "                elif isinstance(layer, nn.ReLU):\n",
    "                    df_dh = autograd.grad(output, inputs, grad_outputs=torch.ones_like(inputs))[0]\n",
    "#                     BIAS\n",
    "#                     self.WB_factors[curr_linear_layer][:-1, :-1] = torch.diag(df_dh[0])\n",
    "                    self.WB_factors[curr_linear_layer] = torch.diag(df_dh[0].data.clone())\n",
    "                \n",
    "            inputs = output\n",
    "        return output\n",
    "    \n"
   ]
  },
  {
   "cell_type": "code",
   "execution_count": 0,
   "metadata": {
    "colab": {},
    "colab_type": "code",
    "id": "SCoY4kFgxBWX"
   },
   "outputs": [],
   "source": [
    "# loss\n",
    "def calc_kfa_loss():\n",
    "    loss = 0\n",
    "    ind = 0\n",
    "    for layer in kfa_model.layers:\n",
    "        if isinstance(layer, nn.Linear):\n",
    "            kfa_model.H_factors[ind].detach_()\n",
    "            kfa_model.Q_factors[ind].detach_()\n",
    "#             loss += 0.5 * torch.sum((layer.weight - kfa_model.prev_W[ind]).transpose(dim0=1, dim1=0) @ \\\n",
    "#                     kfa_model.H_factors[ind] @ \\\n",
    "#                     (layer.weight - kfa_model.prev_W[ind]) @ \\\n",
    "#                     kfa_model.Q_factors[ind])\n",
    "            loss += 0.5 * (layer.weight - kfa_model.prev_W[ind]).view(1, -1) @ \\\n",
    "                            (kfa_model.H_factors[ind] @ \\\n",
    "                            (layer.weight - kfa_model.prev_W[ind]) @ \\\n",
    "                            kfa_model.Q_factors[ind]).view(-1, 1)\n",
    "            ind += 1\n",
    "    return loss"
   ]
  },
  {
   "cell_type": "code",
   "execution_count": 0,
   "metadata": {
    "colab": {},
    "colab_type": "code",
    "id": "HnNaEf9yxBWa"
   },
   "outputs": [],
   "source": [
    "def test(model, test_datasets):\n",
    "    model.eval()\n",
    "    test_loss = 0\n",
    "    correct = 0\n",
    "    all_data_size = 0\n",
    "    \n",
    "    with torch.no_grad():\n",
    "        for test_loader in test_datasets:\n",
    "            for data, target in test_loader:\n",
    "                output = model(data.view(len(data), -1).cuda())\n",
    "                pred = output.argmax(dim=1, keepdim=True) # get the index of the max log-probability\n",
    "                correct += pred.eq(target.view_as(pred).cuda()).sum().item()\n",
    "                all_data_size += len(data)\n",
    "    print(100. * correct / all_data_size)\n",
    "    return (100. * correct / all_data_size)"
   ]
  },
  {
   "cell_type": "code",
   "execution_count": 0,
   "metadata": {
    "colab": {},
    "colab_type": "code",
    "id": "IEB97ttrxBWd"
   },
   "outputs": [],
   "source": [
    "kfa_model = KFAModel(28 * 28, 10)\n",
    "kfa_model.cuda()\n",
    "\n",
    "optimizer = optim.SGD(kfa_model.parameters(), lr=learning_rate,\n",
    "                      momentum=momentum)\n",
    "log = True\n",
    "test_acc = []"
   ]
  },
  {
   "cell_type": "code",
   "execution_count": 0,
   "metadata": {
    "colab": {},
    "colab_type": "code",
    "id": "1yJinBl4xBWk",
    "scrolled": true
   },
   "outputs": [],
   "source": [
    "for n_datasets, train_loader in enumerate(train_datasets[:10], 1):\n",
    "    kfa_model.train()\n",
    "    # standart training\n",
    "    for epoch in range(5):\n",
    "        for batch_idx, (data, target) in enumerate(train_loader):\n",
    "            optimizer.zero_grad()\n",
    "\n",
    "            output = kfa_model(data.view(len(data), -1).cuda())\n",
    "            criteriton = nn.CrossEntropyLoss()\n",
    "            ce_loss = criteriton(output, target.cuda())\n",
    "            kfa_loss = calc_kfa_loss()\n",
    "            loss = ce_loss + 3 * kfa_loss\n",
    "#             loss = ce_loss\n",
    "\n",
    "            loss.backward()\n",
    "            optimizer.step()\n",
    "\n",
    "            if log and batch_idx % log_interval == 0:\n",
    "                print('Train Epoch: {} [{}/{} ({:.0f}%)]\\tLoss: {:.6f}'.format(\n",
    "                    epoch, batch_idx * len(data), len(train_loader.dataset),\n",
    "                    100. * batch_idx / len(train_loader), kfa_loss.item()))\n",
    "    \n",
    "        test_acc.append(test(kfa_model, test_datasets[:n_datasets]))\n",
    "    \n",
    "#     update cycle\n",
    "    n_data = 0\n",
    "    kfa_model.store_factors = True\n",
    "    prev_H = [] #kfa_model.H_factors.clone()\n",
    "    prev_Q = [] #kfa_model.Q_factors.clone()\n",
    "    for ind in range(len(kfa_model.H_factors)):\n",
    "        prev_H.append(kfa_model.H_factors[ind].data.clone().detach())\n",
    "        prev_Q.append(kfa_model.Q_factors[ind].data.clone().detach())\n",
    "    \n",
    "    for data, target in tqdm(train_loader):\n",
    "#         print(prev_Q)\n",
    "        kfa_model.WB_factors = []\n",
    "        for layer in kfa_model.layers:\n",
    "            if isinstance(layer, nn.Linear):\n",
    "                kfa_model.WB_factors.append(torch.zeros(layer.in_features, layer.in_features))\n",
    "\n",
    "        data = data.view(-1, 28 * 28).cuda()\n",
    "        output = kfa_model(data)\n",
    "\n",
    "        # backward\n",
    "        E = F.cross_entropy(output, target.cuda())\n",
    "        dE_dh = autograd.grad(E, output, create_graph=True)[0]\n",
    "        H_L = torch.stack([autograd.grad(dE_dhi, output, retain_graph=True)[0][0] for dE_dhi in dE_dh[0]])\n",
    "    #     print(H_L.shape)\n",
    "        # in reversed order\n",
    "        H_factors = [H_L]\n",
    "\n",
    "        for ind, BW_t in enumerate(reversed(kfa_model.WB_factors[1:])):\n",
    "            H_next = H_factors[-1]\n",
    "    #         print(BW_t.shape, H_next.shape)\n",
    "            H_factors.append(BW_t @ H_next @ torch.transpose(BW_t, dim1=0, dim0=1))\n",
    "#             if torch.all(torch.eig(kfa_model.H_factors[-1])[0][:, 0] > 0) == 0:\n",
    "#                 print(BW_t)\n",
    "#                 break\n",
    "        for l, Hl in enumerate(reversed(H_factors)):\n",
    "            kfa_model.H_factors[l] += Hl\n",
    "\n",
    "        n_data += len(data)\n",
    "#         break\n",
    "\n",
    "    for ind in range(len(kfa_model.Q_factors)):\n",
    "        kfa_model.Q_factors[ind] /= n_data\n",
    "        kfa_model.Q_factors[ind] += prev_Q[ind]\n",
    "        kfa_model.H_factors[ind] /= n_data\n",
    "        kfa_model.H_factors[ind] += prev_H[ind]\n",
    "\n",
    "    kfa_model.prev_W = []\n",
    "    for layer in kfa_model.layers:\n",
    "        if isinstance(layer, nn.Linear):\n",
    "            kfa_model.prev_W.append(layer.weight.data.clone())\n",
    "    # end of Q, H update. Don't change during other cycle\n",
    "    kfa_model.store_factors = False\n",
    "    \n",
    "\n",
    "\n",
    "    \n",
    "    "
   ]
  },
  {
   "cell_type": "code",
   "execution_count": 53,
   "metadata": {
    "colab": {
     "base_uri": "https://localhost:8080/",
     "height": 286
    },
    "colab_type": "code",
    "id": "IlUri_6QxBWy",
    "outputId": "ac5badb1-bcbd-43db-8264-fdf0576205a8"
   },
   "outputs": [
    {
     "data": {
      "text/plain": [
       "<matplotlib.legend.Legend at 0x7f0f7012ed30>"
      ]
     },
     "execution_count": 53,
     "metadata": {
      "tags": []
     },
     "output_type": "execute_result"
    },
    {
     "data": {
      "image/png": "[encoded data removed]",
      "text/plain": [
       "<Figure size 432x288 with 1 Axes>"
      ]
     },
     "metadata": {
      "tags": []
     },
     "output_type": "display_data"
    }
   ],
   "source": [
    "plt.plot(test_acc_wl, label=\"KFA, lambda = 1\")\n",
    "plt.plot(test_acc_5, label=\"KFA, lambda = 3\")\n",
    "plt.plot(test_acc_without_loss, label=\"online learning\")\n",
    "plt.legend()"
   ]
  }
 ],
 "metadata": {
  "accelerator": "GPU",
  "anaconda-cloud": {},
  "colab": {
   "name": "Catastr.ipynb",
   "provenance": [],
   "version": "0.3.2"
  },
  "kernelspec": {
   "display_name": "Python [default]",
   "language": "python",
   "name": "python3"
  },
  "language_info": {
   "codemirror_mode": {
    "name": "ipython",
    "version": 3
   },
   "file_extension": ".py",
   "mimetype": "text/x-python",
   "name": "python",
   "nbconvert_exporter": "python",
   "pygments_lexer": "ipython3",
   "version": "3.5.6"
  }
 },
 "nbformat": 4,
 "nbformat_minor": 1
}
