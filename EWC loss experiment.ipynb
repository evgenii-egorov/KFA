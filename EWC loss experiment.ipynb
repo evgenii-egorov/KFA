{
 "cells": [
  {
   "cell_type": "code",
   "execution_count": 1,
   "metadata": {
    "colab": {},
    "colab_type": "code",
    "id": "MOzUZcRxxBU5"
   },
   "outputs": [],
   "source": [
    "import torch\n",
    "import torch.nn as nn\n",
    "import torch.nn.functional as F\n",
    "import torchvision\n",
    "from torchvision import datasets, transforms\n",
    "from torch.autograd import Variable\n",
    "import torch.optim as optim\n",
    "from torch import autograd\n",
    "\n",
    "import os\n",
    "import numpy as np\n",
    "import matplotlib.pyplot as plt\n",
    "from tqdm import tqdm\n",
    "%matplotlib inline"
   ]
  },
  {
   "cell_type": "code",
   "execution_count": 2,
   "metadata": {
    "colab": {
     "base_uri": "https://localhost:8080/",
     "height": 34
    },
    "colab_type": "code",
    "id": "9YNmAFEmxBVA",
    "outputId": "43b72e0c-a786-4427-b5ca-53c34234a83d"
   },
   "outputs": [
    {
     "data": {
      "text/plain": [
       "<torch._C.Generator at 0x7f5f540fedd0>"
      ]
     },
     "execution_count": 2,
     "metadata": {},
     "output_type": "execute_result"
    }
   ],
   "source": [
    "n_epochs = 3\n",
    "batch_size_train = 64\n",
    "batch_size_test = 1000\n",
    "learning_rate = 0.01\n",
    "momentum = 0.5\n",
    "log_interval = 100\n",
    "task_number = 50\n",
    "mnist_size = (28, 28)\n",
    "\n",
    "random_seed = 1\n",
    "torch.manual_seed(random_seed)"
   ]
  },
  {
   "cell_type": "code",
   "execution_count": 3,
   "metadata": {},
   "outputs": [],
   "source": [
    "import data\n",
    "\n",
    "train_datasets, test_datasets = data.get_datasets(random_seed=random_seed,\n",
    "                                                  task_number=task_number,\n",
    "                                                  batch_size_train=batch_size_train,\n",
    "                                                  batch_size_test=batch_size_test)"
   ]
  },
  {
   "cell_type": "code",
   "execution_count": 4,
   "metadata": {
    "colab": {},
    "colab_type": "code",
    "id": "7uXbO5EHxBVU"
   },
   "outputs": [],
   "source": [
    "class LinearModel(nn.Module):\n",
    "    def __init__(self, input_size, output_size, hidden_size):\n",
    "        super(LinearModel, self).__init__()\n",
    "        self.input_size = input_size\n",
    "        self.hidden_size = hidden_size\n",
    "        self.output_size = output_size\n",
    "        \n",
    "        self.layers = nn.ModuleList([\n",
    "            nn.Linear(self.input_size, self.hidden_size), nn.ReLU(),\n",
    "            nn.Linear(self.hidden_size, self.hidden_size), nn.ReLU(),\n",
    "            nn.Linear(self.hidden_size, self.output_size)\n",
    "        ])\n",
    "    \n",
    "    def forward(self, x):\n",
    "        for layer in self.layers:\n",
    "            x = layer(x)\n",
    "        return x"
   ]
  },
  {
   "cell_type": "code",
   "execution_count": 12,
   "metadata": {
    "colab": {},
    "colab_type": "code",
    "id": "f4GEyacyxBVa"
   },
   "outputs": [],
   "source": [
    "def train(model, train_loader, optimizer, epoch, log=False):\n",
    "    model.train()\n",
    "    for batch_idx, (data, target) in enumerate(train_loader):\n",
    "        optimizer.zero_grad()\n",
    "        output = model(data.view(len(data), -1))\n",
    "        loss = F.cross_entropy(output, target)\n",
    "        loss.backward()\n",
    "        optimizer.step()\n",
    "        if log and batch_idx % log_interval == 0:\n",
    "            print('Train Epoch: {} [{}/{} ({:.0f}%)]\\tLoss: {:.6f}'.format(\n",
    "                epoch, batch_idx * len(data), len(train_loader.dataset),\n",
    "                100. * batch_idx / len(train_loader), loss.item()))\n",
    "\n",
    "def test(model, test_datasets):\n",
    "    model.eval()\n",
    "    test_loss = 0\n",
    "    correct = 0\n",
    "    all_data_size = 0\n",
    "    \n",
    "    with torch.no_grad():\n",
    "        for test_loader in test_datasets:\n",
    "            for data, target in test_loader:\n",
    "                output = model(data.view(len(data), -1))\n",
    "                pred = output.argmax(dim=1, keepdim=True) # get the index of the max log-probability\n",
    "                correct += pred.eq(target.view_as(pred)).sum().item()\n",
    "                all_data_size += len(data)\n",
    "    print(100. * correct / all_data_size)\n",
    "    return (100. * correct / all_data_size)"
   ]
  },
  {
   "cell_type": "code",
   "execution_count": 13,
   "metadata": {
    "colab": {},
    "colab_type": "code",
    "id": "-_kZZhu8xBVn"
   },
   "outputs": [],
   "source": [
    "model = LinearModel(28 * 28, 10, 100)\n",
    "optimizer = optim.SGD(model.parameters(), lr=learning_rate,\n",
    "                      momentum=momentum)\n",
    "\n",
    "test_acc_linear = []"
   ]
  },
  {
   "cell_type": "code",
   "execution_count": null,
   "metadata": {
    "colab": {},
    "colab_type": "code",
    "id": "pR6Yg_htxBVt"
   },
   "outputs": [],
   "source": [
    "for task_no, train_loader in enumerate(train_datasets, 1):\n",
    "    for epoch in range(1, n_epochs + 1):\n",
    "        train(model, train_loader, optimizer, epoch, log=True)\n",
    "        test_acc_linear.append(\n",
    "            test(model, test_datasets[:task_no])\n",
    "        )"
   ]
  },
  {
   "cell_type": "markdown",
   "metadata": {
    "colab_type": "text",
    "id": "-CiL467QxBV6"
   },
   "source": [
    "## EWC"
   ]
  },
  {
   "cell_type": "code",
   "execution_count": 19,
   "metadata": {},
   "outputs": [],
   "source": [
    "class EWCModel(LinearModel):\n",
    "    def __init__(self, input_size, output_size,\n",
    "                 hidden_size=100):\n",
    "        super().__init__(input_size, output_size, hidden_size)\n",
    "\n",
    "    def estimate_fisher(self, data_loader):\n",
    "        loglikelihoods = []\n",
    "        # iterate through each batch\n",
    "        for x, y in data_loader:\n",
    "            x = x.view(len(x), -1)\n",
    "            loglikelihoods.append(\n",
    "                F.log_softmax(self(x), dim=0)[range(len(x)), y.data]\n",
    "            )\n",
    "\n",
    "        # estimate the fisher information of the parameters.\n",
    "        loglikelihood = torch.cat(loglikelihoods).mean(dim=0)\n",
    "        # grad by parametrs\n",
    "        loglikelihood_grads = autograd.grad(loglikelihood, self.parameters())\n",
    "        parameter_names = [\n",
    "            n.replace('.', '__') for n, p in self.named_parameters()\n",
    "        ]\n",
    "        return {n: g ** 2 for n, g in zip(parameter_names, loglikelihood_grads)}\n",
    "\n",
    "    def consolidate(self, fisher):\n",
    "        for n, p in self.named_parameters():\n",
    "            n = n.replace('.', '__')\n",
    "            self.register_buffer('{}_estimated_opt'.format(n), p.data.clone())\n",
    "            self.register_buffer('{}_estimated_fisher'\n",
    "                                 .format(n), fisher[n].data.clone())\n",
    "\n",
    "    def ewc_loss(self, lamda, cuda=False):\n",
    "        try:\n",
    "            losses = []\n",
    "            for param_name, param_val in self.named_parameters():\n",
    "                # retrieve the consolidated mean and fisher information.\n",
    "                param_name = param_name.replace('.', '__')\n",
    "                prev_opt = getattr(self, '{}_estimated_opt'.format(param_name))\n",
    "                fisher = getattr(self, '{}_estimated_fisher'.format(param_name))\n",
    "                losses.append((fisher * (param_val - prev_opt) ** 2).sum())\n",
    "            return (lamda / 2) * sum(losses)\n",
    "        except AttributeError:\n",
    "            # ewc loss is 0 if there's no consolidated parameters.\n",
    "            return (\n",
    "                Variable(torch.zeros(1))\n",
    "            )"
   ]
  },
  {
   "cell_type": "code",
   "execution_count": 17,
   "metadata": {
    "colab": {},
    "colab_type": "code",
    "id": "dV8IeuX9xBV7"
   },
   "outputs": [],
   "source": [
    "class EWCModel(nn.Module):\n",
    "    def __init__(self, input_size, output_size,\n",
    "                 hidden_size=100):\n",
    "        super().__init__()\n",
    "        self.input_size = input_size\n",
    "        self.hidden_size = hidden_size\n",
    "        self.output_size = output_size\n",
    "        \n",
    "        self.layers = nn.ModuleList([\n",
    "            nn.Linear(self.input_size, self.hidden_size), nn.ReLU(),\n",
    "            nn.Linear(self.hidden_size, self.hidden_size), nn.ReLU(),\n",
    "            nn.Linear(self.hidden_size, self.output_size)\n",
    "        ])\n",
    "\n",
    "    def forward(self, x):\n",
    "        for layer in self.layers:\n",
    "            x = layer(x)\n",
    "        return x\n",
    "\n",
    "    def estimate_fisher(self, data_loader):\n",
    "        loglikelihoods = []\n",
    "        # iterate through each batch\n",
    "        for x, y in data_loader:\n",
    "            x = x.view(len(x), -1)\n",
    "            loglikelihoods.append(\n",
    "                F.log_softmax(self(x), dim=0)[range(len(x)), y.data]\n",
    "            )\n",
    "\n",
    "        # estimate the fisher information of the parameters.\n",
    "        loglikelihood = torch.cat(loglikelihoods).mean(dim=0)\n",
    "        # grad by parametrs\n",
    "        loglikelihood_grads = autograd.grad(loglikelihood, self.parameters())\n",
    "        parameter_names = [\n",
    "            n.replace('.', '__') for n, p in self.named_parameters()\n",
    "        ]\n",
    "        return {n: g ** 2 for n, g in zip(parameter_names, loglikelihood_grads)}\n",
    "\n",
    "    def consolidate(self, fisher):\n",
    "        for n, p in self.named_parameters():\n",
    "            n = n.replace('.', '__')\n",
    "            self.register_buffer('{}_estimated_opt'.format(n), p.data.clone())\n",
    "            self.register_buffer('{}_estimated_fisher'\n",
    "                                 .format(n), fisher[n].data.clone())\n",
    "\n",
    "    def ewc_loss(self, lamda, cuda=False):\n",
    "        try:\n",
    "            losses = []\n",
    "            for param_name, param_val in self.named_parameters():\n",
    "                # retrieve the consolidated mean and fisher information.\n",
    "                param_name = param_name.replace('.', '__')\n",
    "                prev_opt = getattr(self, '{}_estimated_opt'.format(param_name))\n",
    "                fisher = getattr(self, '{}_estimated_fisher'.format(param_name))\n",
    "                losses.append((fisher * (param_val - prev_opt) ** 2).sum())\n",
    "            return (lamda / 2) * sum(losses)\n",
    "        except AttributeError:\n",
    "            # ewc loss is 0 if there's no consolidated parameters.\n",
    "            return (\n",
    "                Variable(torch.zeros(1))\n",
    "            )"
   ]
  },
  {
   "cell_type": "code",
   "execution_count": 20,
   "metadata": {
    "colab": {},
    "colab_type": "code",
    "id": "XvToXYkJxBWC"
   },
   "outputs": [],
   "source": [
    "model_ewc = EWCModel(28 * 28, 10)\n",
    "optimizer = optim.SGD(model_ewc.parameters(), lr=learning_rate,\n",
    "                      momentum=momentum)\n",
    "\n",
    "test_acc_ewc = []\n",
    "lamda = 3"
   ]
  },
  {
   "cell_type": "code",
   "execution_count": null,
   "metadata": {
    "colab": {},
    "colab_type": "code",
    "id": "nVWfuUgxxBWF",
    "scrolled": true
   },
   "outputs": [],
   "source": [
    "for task_no, train_loader in enumerate(train_datasets, 1):\n",
    "    for epoch in range(1, n_epochs + 1):\n",
    "#         trainEWC(model_ewc, train_loader, optimizer, epoch, log=True)\n",
    "        train(model_ewc, train_loader, optimizer, epoch, log=True)\n",
    "        test_acc_ewc.append(\n",
    "            test(model_ewc, test_datasets[:task_no])\n",
    "        )\n",
    "    # update Fisher matrix\n",
    "    model_ewc.consolidate(\n",
    "        model_ewc.estimate_fisher(train_loader)\n",
    "                         )\n"
   ]
  },
  {
   "cell_type": "code",
   "execution_count": 0,
   "metadata": {
    "colab": {},
    "colab_type": "code",
    "id": "-6nqhyvcxBWK",
    "outputId": "0c6c523c-d190-4416-c6ac-c9d121fd0d7c"
   },
   "outputs": [
    {
     "data": {
      "text/plain": [
       "[<matplotlib.lines.Line2D at 0x7fa7ae6547f0>]"
      ]
     },
     "execution_count": 96,
     "metadata": {
      "tags": []
     },
     "output_type": "execute_result"
    },
    {
     "data": {
      "image/png": "[encoded data removed]",
      "text/plain": [
       "<Figure size 432x288 with 1 Axes>"
      ]
     },
     "metadata": {
      "tags": []
     },
     "output_type": "display_data"
    }
   ],
   "source": [
    "s = 51\n",
    "plt.plot(test_acc_linear[:s])\n",
    "plt.plot(test_acc_linear[s:])"
   ]
  }
 ],
 "metadata": {
  "accelerator": "GPU",
  "anaconda-cloud": {},
  "colab": {
   "name": "Catastr.ipynb",
   "provenance": [],
   "version": "0.3.2"
  },
  "kernelspec": {
   "display_name": "Python [default]",
   "language": "python",
   "name": "python3"
  },
  "language_info": {
   "codemirror_mode": {
    "name": "ipython",
    "version": 3
   },
   "file_extension": ".py",
   "mimetype": "text/x-python",
   "name": "python",
   "nbconvert_exporter": "python",
   "pygments_lexer": "ipython3",
   "version": "3.5.6"
  }
 },
 "nbformat": 4,
 "nbformat_minor": 1
}
