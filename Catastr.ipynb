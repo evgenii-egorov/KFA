{
  "nbformat": 4,
  "nbformat_minor": 0,
  "metadata": {
    "colab": {
      "name": "Catastr.ipynb",
      "version": "0.3.2",
      "provenance": []
    },
    "kernelspec": {
      "name": "python3",
      "display_name": "Python 3"
    },
    "accelerator": "GPU"
  },
  "cells": [
    {
      "metadata": {
        "id": "MOzUZcRxxBU5",
        "colab_type": "code",
        "colab": {}
      },
      "cell_type": "code",
      "source": [
        "import torch\n",
        "import torch.nn as nn\n",
        "import torch.nn.functional as F\n",
        "import torchvision\n",
        "from torchvision import datasets, transforms\n",
        "from torch.autograd import Variable\n",
        "import torch.optim as optim\n",
        "from torch import autograd\n",
        "\n",
        "import os\n",
        "import numpy as np\n",
        "import matplotlib.pyplot as plt\n",
        "from tqdm import tqdm\n",
        "%matplotlib inline"
      ],
      "execution_count": 0,
      "outputs": []
    },
    {
      "metadata": {
        "id": "YQyLkhmjyIbA",
        "colab_type": "code",
        "colab": {}
      },
      "cell_type": "code",
      "source": [
        "torch.set_default_tensor_type('torch.cuda.FloatTensor')"
      ],
      "execution_count": 0,
      "outputs": []
    },
    {
      "metadata": {
        "id": "9YNmAFEmxBVA",
        "colab_type": "code",
        "colab": {
          "base_uri": "https://localhost:8080/",
          "height": 34
        },
        "outputId": "43b72e0c-a786-4427-b5ca-53c34234a83d"
      },
      "cell_type": "code",
      "source": [
        "n_epochs = 3\n",
        "batch_size_train = 64\n",
        "batch_size_test = 1000\n",
        "learning_rate = 0.01\n",
        "momentum = 0.5\n",
        "log_interval = 100\n",
        "task_number = 50\n",
        "mnist_size = (28, 28)\n",
        "\n",
        "random_seed = 1\n",
        "torch.manual_seed(random_seed)"
      ],
      "execution_count": 3,
      "outputs": [
        {
          "output_type": "execute_result",
          "data": {
            "text/plain": [
              "<torch._C.Generator at 0x7f0f721be250>"
            ]
          },
          "metadata": {
            "tags": []
          },
          "execution_count": 3
        }
      ]
    },
    {
      "metadata": {
        "id": "AJTwJup5xBVG",
        "colab_type": "code",
        "colab": {}
      },
      "cell_type": "code",
      "source": [
        "root = './data'\n",
        "if not os.path.exists(root):\n",
        "    os.mkdir(root)"
      ],
      "execution_count": 0,
      "outputs": []
    },
    {
      "metadata": {
        "id": "GxOiojFLxBVK",
        "colab_type": "code",
        "colab": {}
      },
      "cell_type": "code",
      "source": [
        "def get_dataset(permutation, get_train=True):\n",
        "    trans_perm = torchvision.transforms.Compose([transforms.ToTensor(),\n",
        "              torchvision.transforms.Lambda(lambda x: x.view(-1)[permutation].view(1, 28, 28))])\n",
        "    \n",
        "    dataset = datasets.MNIST(root=root, train=get_train, transform=trans_perm, download=True)\n",
        "    loader = torch.utils.data.DataLoader(dataset, batch_size=batch_size_train, shuffle=True)\n",
        "    return loader"
      ],
      "execution_count": 0,
      "outputs": []
    },
    {
      "metadata": {
        "id": "seb1p7NfxBVO",
        "colab_type": "code",
        "colab": {}
      },
      "cell_type": "code",
      "source": [
        "np.random.seed(random_seed)\n",
        "permutations = [\n",
        "    np.random.permutation(28 * 28) for\n",
        "    _ in range(task_number)\n",
        "]\n",
        "\n",
        "train_datasets = [\n",
        "    get_dataset(p) for p in permutations\n",
        "]\n",
        "test_datasets = [\n",
        "    get_dataset(p, get_train=False) for p in permutations\n",
        "]"
      ],
      "execution_count": 0,
      "outputs": []
    },
    {
      "metadata": {
        "id": "7uXbO5EHxBVU",
        "colab_type": "code",
        "colab": {}
      },
      "cell_type": "code",
      "source": [
        "class LinearModel(nn.Module):\n",
        "    def __init__(self, input_size, output_size, hidden_size):\n",
        "        super(LinearModel, self).__init__()\n",
        "        self.input_size = input_size\n",
        "        self.hidden_size = hidden_size\n",
        "        self.output_size = output_size\n",
        "        \n",
        "        self.layer1 = nn.Linear(self.input_size, self.hidden_size)\n",
        "        self.act1 = nn.ReLU()\n",
        "        \n",
        "        self.layer2 = nn.Linear(self.hidden_size, self.hidden_size)\n",
        "        self.act2 = nn.ReLU()\n",
        "        \n",
        "        self.layer3 = nn.Linear(self.hidden_size, self.output_size)\n",
        "        self.log_probs = nn.LogSoftmax(dim=-1)\n",
        "    \n",
        "    def forward(self, x):\n",
        "        x = x.view(-1, self.input_size)\n",
        "        \n",
        "        x = self.layer1(x)\n",
        "        x = self.act1(x)\n",
        "        \n",
        "        x = self.layer2(x)\n",
        "        x = self.act2(x)\n",
        "        \n",
        "        x = self.layer3(x)\n",
        "        return self.log_probs(x)"
      ],
      "execution_count": 0,
      "outputs": []
    },
    {
      "metadata": {
        "id": "f4GEyacyxBVa",
        "colab_type": "code",
        "colab": {}
      },
      "cell_type": "code",
      "source": [
        "def train(model, train_loader, optimizer, epoch, log=False):\n",
        "    model.train()\n",
        "    for batch_idx, (data, target) in enumerate(train_loader):\n",
        "        optimizer.zero_grad()\n",
        "        output = model(data)\n",
        "        loss = F.nll_loss(output, target)\n",
        "        loss.backward()\n",
        "        optimizer.step()\n",
        "        if log and batch_idx % log_interval == 0:\n",
        "            print('Train Epoch: {} [{}/{} ({:.0f}%)]\\tLoss: {:.6f}'.format(\n",
        "                epoch, batch_idx * len(data), len(train_loader.dataset),\n",
        "                100. * batch_idx / len(train_loader), loss.item()))\n",
        "\n",
        "def test(model, test_datasets):\n",
        "    model.eval()\n",
        "    test_loss = 0\n",
        "    correct = 0\n",
        "    all_data_size = 0\n",
        "    \n",
        "    with torch.no_grad():\n",
        "        for test_loader in test_datasets:\n",
        "            for data, target in test_loader:\n",
        "                output = model(data)\n",
        "                pred = output.argmax(dim=1, keepdim=True) # get the index of the max log-probability\n",
        "                correct += pred.eq(target.view_as(pred)).sum().item()\n",
        "                all_data_size += len(data)\n",
        "    print(100. * correct / all_data_size)\n",
        "    return (100. * correct / all_data_size)"
      ],
      "execution_count": 0,
      "outputs": []
    },
    {
      "metadata": {
        "id": "-_kZZhu8xBVn",
        "colab_type": "code",
        "colab": {}
      },
      "cell_type": "code",
      "source": [
        "model = LinearModel(28 * 28, 10, 100)\n",
        "optimizer = optim.SGD(model.parameters(), lr=learning_rate,\n",
        "                      momentum=momentum)\n",
        "\n",
        "test_acc_linear = []"
      ],
      "execution_count": 0,
      "outputs": []
    },
    {
      "metadata": {
        "id": "pR6Yg_htxBVt",
        "colab_type": "code",
        "colab": {}
      },
      "cell_type": "code",
      "source": [
        "for task_no, train_loader in enumerate(train_datasets, 1):\n",
        "    for epoch in range(1, n_epochs + 1):\n",
        "        train(model, train_loader, optimizer, epoch, log=True)\n",
        "        test_acc_linear.append(\n",
        "            test(model, test_datasets[:task_no])\n",
        "        )"
      ],
      "execution_count": 0,
      "outputs": []
    },
    {
      "metadata": {
        "id": "-CiL467QxBV6",
        "colab_type": "text"
      },
      "cell_type": "markdown",
      "source": [
        "## EWC"
      ]
    },
    {
      "metadata": {
        "id": "dV8IeuX9xBV7",
        "colab_type": "code",
        "colab": {}
      },
      "cell_type": "code",
      "source": [
        "class EWCModel(nn.Module):\n",
        "    def __init__(self, input_size, output_size,\n",
        "                 hidden_size=100):\n",
        "        super().__init__()\n",
        "        self.input_size = input_size\n",
        "        self.hidden_size = hidden_size\n",
        "        self.output_size = output_size\n",
        "        \n",
        "        self.layers = nn.ModuleList([\n",
        "            nn.Linear(self.input_size, self.hidden_size), nn.ReLU(),\n",
        "            nn.Linear(self.hidden_size, self.hidden_size), nn.ReLU(),\n",
        "            nn.Linear(self.hidden_size, self.output_size)\n",
        "        ])\n",
        "\n",
        "    def forward(self, x):\n",
        "        for layer in self.layers:\n",
        "            x = layer(x)\n",
        "        return x\n",
        "\n",
        "    def estimate_fisher(self, data_loader):\n",
        "        loglikelihoods = []\n",
        "        # iterate through each batch\n",
        "        for x, y in data_loader:\n",
        "            x = x.view(len(x), -1)\n",
        "            loglikelihoods.append(\n",
        "                F.log_softmax(self(x), dim=0)[range(len(x)), y.data]\n",
        "            )\n",
        "\n",
        "        # estimate the fisher information of the parameters.\n",
        "        loglikelihood = torch.cat(loglikelihoods).mean(dim=0)\n",
        "        # grad by parametrs\n",
        "        loglikelihood_grads = autograd.grad(loglikelihood, self.parameters())\n",
        "        parameter_names = [\n",
        "            n.replace('.', '__') for n, p in self.named_parameters()\n",
        "        ]\n",
        "        return {n: g ** 2 for n, g in zip(parameter_names, loglikelihood_grads)}\n",
        "\n",
        "    def consolidate(self, fisher):\n",
        "        for n, p in self.named_parameters():\n",
        "            n = n.replace('.', '__')\n",
        "            self.register_buffer('{}_estimated_opt'.format(n), p.data.clone())\n",
        "            self.register_buffer('{}_estimated_fisher'\n",
        "                                 .format(n), fisher[n].data.clone())\n",
        "\n",
        "    def ewc_loss(self, lamda, cuda=False):\n",
        "        try:\n",
        "            losses = []\n",
        "            for param_name, param_val in self.named_parameters():\n",
        "                # retrieve the consolidated mean and fisher information.\n",
        "                param_name = param_name.replace('.', '__')\n",
        "                prev_opt = getattr(self, '{}_estimated_opt'.format(param_name))\n",
        "                fisher = getattr(self, '{}_estimated_fisher'.format(param_name))\n",
        "                losses.append((fisher * (param_val - prev_opt) ** 2).sum())\n",
        "            return (lamda / 2) * sum(losses)\n",
        "        except AttributeError:\n",
        "            # ewc loss is 0 if there's no consolidated parameters.\n",
        "            return (\n",
        "                Variable(torch.zeros(1))\n",
        "            )"
      ],
      "execution_count": 0,
      "outputs": []
    },
    {
      "metadata": {
        "id": "24KRgCCOxBV-",
        "colab_type": "code",
        "colab": {}
      },
      "cell_type": "code",
      "source": [
        "def trainEWC(model, train_loader, optimizer, epoch, log=False):\n",
        "    model.train()\n",
        "    for batch_idx, (data, target) in enumerate(train_loader):\n",
        "        optimizer.zero_grad()\n",
        "        \n",
        "        output = model(data.view(len(data), -1))\n",
        "        criteriton = nn.CrossEntropyLoss()\n",
        "        ce_loss = criteriton(output, target)\n",
        "        ewc_loss = model.ewc_loss(lamda)\n",
        "        loss = ce_loss + ewc_loss\n",
        "        \n",
        "        loss.backward()\n",
        "        optimizer.step()\n",
        "        \n",
        "        if log and batch_idx % log_interval == 0:\n",
        "            print('Train Epoch: {} [{}/{} ({:.0f}%)]\\tLoss: {:.6f}'.format(\n",
        "                epoch, batch_idx * len(data), len(train_loader.dataset),\n",
        "                100. * batch_idx / len(train_loader), loss.item()))\n",
        "\n",
        "\n",
        "def test(model, test_datasets):\n",
        "    model.eval()\n",
        "    test_loss = 0\n",
        "    correct = 0\n",
        "    all_data_size = 0\n",
        "    \n",
        "    with torch.no_grad():\n",
        "        for test_loader in test_datasets:\n",
        "            for data, target in test_loader:\n",
        "                output = model(data.view(len(data), -1))\n",
        "                pred = output.argmax(dim=1, keepdim=True) # get the index of the max log-probability\n",
        "                correct += pred.eq(target.view_as(pred)).sum().item()\n",
        "                all_data_size += len(data)\n",
        "    print(100. * correct / all_data_size)\n",
        "    return (100. * correct / all_data_size)"
      ],
      "execution_count": 0,
      "outputs": []
    },
    {
      "metadata": {
        "id": "XvToXYkJxBWC",
        "colab_type": "code",
        "colab": {}
      },
      "cell_type": "code",
      "source": [
        "model_ewc = EWCModel(28 * 28, 10)\n",
        "optimizer = optim.SGD(model_ewc.parameters(), lr=learning_rate,\n",
        "                      momentum=momentum)\n",
        "\n",
        "test_acc_ewc = []\n",
        "lamda = 3\n",
        "n_epochs = "
      ],
      "execution_count": 0,
      "outputs": []
    },
    {
      "metadata": {
        "scrolled": true,
        "id": "nVWfuUgxxBWF",
        "colab_type": "code",
        "colab": {}
      },
      "cell_type": "code",
      "source": [
        "for task_no, train_loader in enumerate(train_datasets, 1):\n",
        "    for epoch in range(1, n_epochs + 1):\n",
        "        trainEWC(model_ewc, train_loader, optimizer, epoch, log=True)\n",
        "        test_acc_ewc.append(\n",
        "            test(model_ewc, test_datasets[:task_no])\n",
        "        )\n",
        "    # update Fisher matrix\n",
        "    model_ewc.consolidate(\n",
        "        model_ewc.estimate_fisher(train_loader)\n",
        "                         )\n"
      ],
      "execution_count": 0,
      "outputs": []
    },
    {
      "metadata": {
        "id": "-6nqhyvcxBWK",
        "colab_type": "code",
        "colab": {},
        "outputId": "0c6c523c-d190-4416-c6ac-c9d121fd0d7c"
      },
      "cell_type": "code",
      "source": [
        "s = 51\n",
        "plt.plot(test_acc_linear[:s])\n",
        "plt.plot(test_acc_linear[s:])"
      ],
      "execution_count": 0,
      "outputs": [
        {
          "output_type": "execute_result",
          "data": {
            "text/plain": [
              "[<matplotlib.lines.Line2D at 0x7fa7ae6547f0>]"
            ]
          },
          "metadata": {
            "tags": []
          },
          "execution_count": 96
        },
        {
          "output_type": "display_data",
          "data": {
            "image/png": "[encoded data removed]",
            "text/plain": [
              "<Figure size 432x288 with 1 Axes>"
            ]
          },
          "metadata": {
            "tags": []
          }
        }
      ]
    },
    {
      "metadata": {
        "id": "FF2TzqrMxBWQ",
        "colab_type": "text"
      },
      "cell_type": "markdown",
      "source": [
        "### K-FA"
      ]
    },
    {
      "metadata": {
        "id": "6s54b6kwxgI3",
        "colab_type": "code",
        "colab": {}
      },
      "cell_type": "code",
      "source": [
        "torch.set_default_tensor_type('torch.cuda.FloatTensor')"
      ],
      "execution_count": 0,
      "outputs": []
    },
    {
      "metadata": {
        "id": "JyI2OlAGxBWR",
        "colab_type": "code",
        "colab": {}
      },
      "cell_type": "code",
      "source": [
        "class KFAModel(nn.Module):\n",
        "    def __init__(self, input_size, output_size,\n",
        "                 hidden_size=100):\n",
        "        super().__init__()\n",
        "        self.input_size = input_size\n",
        "        self.hidden_size = hidden_size\n",
        "        self.output_size = output_size\n",
        "        \n",
        "        \n",
        "        \n",
        "        self.layers = nn.ModuleList([\n",
        "            nn.Linear(self.input_size, self.hidden_size, bias=False), nn.ReLU(),\n",
        "            nn.Linear(self.hidden_size, self.hidden_size, bias=False), nn.ReLU(),\n",
        "            nn.Linear(self.hidden_size, self.output_size, bias=False)\n",
        "        ])\n",
        "        \n",
        "        self.store_factors = False\n",
        "        self.WB_factors = None\n",
        "        \n",
        "        \n",
        "        # factors init\n",
        "        self.Q_factors = []\n",
        "        self.H_factors = []\n",
        "        for layer in self.layers:\n",
        "            if isinstance(layer, nn.Linear):\n",
        "                self.Q_factors.append(torch.zeros(layer.in_features, layer.in_features))\n",
        "                self.H_factors.append(torch.zeros(layer.out_features, layer.out_features))\n",
        "        # optimal weights init with random\n",
        "        self.prev_W = []\n",
        "        for layer in self.layers:\n",
        "            if isinstance(layer, nn.Linear):\n",
        "                self.prev_W.append(layer.weight.data.clone())\n",
        "\n",
        "    def forward(self, inputs):\n",
        "        curr_linear_layer = 0\n",
        "        for layer_ind, layer in enumerate(self.layers):\n",
        "            # add bias before linear layer\n",
        "            #BIAS\n",
        "#             if isinstance(layer, nn.Linear):\n",
        "#                 inputs = torch.cat([inputs, torch.ones(inputs.size(0), 1)],dim=1)\n",
        "            output = layer(inputs)\n",
        "            \n",
        "            if self.store_factors:\n",
        "                if isinstance(layer, nn.Linear):\n",
        "                    \n",
        "                    self.Q_factors[curr_linear_layer] += torch.bmm(inputs.unsqueeze(2).data.clone(),\n",
        "                                                                   inputs.unsqueeze(1).data.clone()).sum(dim=0)\n",
        "                    self.WB_factors[curr_linear_layer] = torch.mm(self.WB_factors[curr_linear_layer],\n",
        "                                                                  layer.weight.transpose(dim0=1, dim1=0).data.clone())\n",
        "                    curr_linear_layer += 1\n",
        "                elif isinstance(layer, nn.ReLU):\n",
        "                    df_dh = autograd.grad(output, inputs, grad_outputs=torch.ones_like(inputs))[0]\n",
        "#                     BIAS\n",
        "#                     self.WB_factors[curr_linear_layer][:-1, :-1] = torch.diag(df_dh[0])\n",
        "                    self.WB_factors[curr_linear_layer] = torch.diag(df_dh[0].data.clone())\n",
        "                \n",
        "            inputs = output\n",
        "        return output\n",
        "    \n"
      ],
      "execution_count": 0,
      "outputs": []
    },
    {
      "metadata": {
        "id": "SCoY4kFgxBWX",
        "colab_type": "code",
        "colab": {}
      },
      "cell_type": "code",
      "source": [
        "# loss\n",
        "def calc_kfa_loss():\n",
        "    loss = 0\n",
        "    ind = 0\n",
        "    for layer in kfa_model.layers:\n",
        "        if isinstance(layer, nn.Linear):\n",
        "            kfa_model.H_factors[ind].detach_()\n",
        "            kfa_model.Q_factors[ind].detach_()\n",
        "#             loss += 0.5 * torch.sum((layer.weight - kfa_model.prev_W[ind]).transpose(dim0=1, dim1=0) @ \\\n",
        "#                     kfa_model.H_factors[ind] @ \\\n",
        "#                     (layer.weight - kfa_model.prev_W[ind]) @ \\\n",
        "#                     kfa_model.Q_factors[ind])\n",
        "            loss += 0.5 * (layer.weight - kfa_model.prev_W[ind]).view(1, -1) @ \\\n",
        "                            (kfa_model.H_factors[ind] @ \\\n",
        "                            (layer.weight - kfa_model.prev_W[ind]) @ \\\n",
        "                            kfa_model.Q_factors[ind]).view(-1, 1)\n",
        "            ind += 1\n",
        "    return loss"
      ],
      "execution_count": 0,
      "outputs": []
    },
    {
      "metadata": {
        "id": "HnNaEf9yxBWa",
        "colab_type": "code",
        "colab": {}
      },
      "cell_type": "code",
      "source": [
        "def test(model, test_datasets):\n",
        "    model.eval()\n",
        "    test_loss = 0\n",
        "    correct = 0\n",
        "    all_data_size = 0\n",
        "    \n",
        "    with torch.no_grad():\n",
        "        for test_loader in test_datasets:\n",
        "            for data, target in test_loader:\n",
        "                output = model(data.view(len(data), -1).cuda())\n",
        "                pred = output.argmax(dim=1, keepdim=True) # get the index of the max log-probability\n",
        "                correct += pred.eq(target.view_as(pred).cuda()).sum().item()\n",
        "                all_data_size += len(data)\n",
        "    print(100. * correct / all_data_size)\n",
        "    return (100. * correct / all_data_size)"
      ],
      "execution_count": 0,
      "outputs": []
    },
    {
      "metadata": {
        "id": "IEB97ttrxBWd",
        "colab_type": "code",
        "colab": {}
      },
      "cell_type": "code",
      "source": [
        "kfa_model = KFAModel(28 * 28, 10)\n",
        "kfa_model.cuda()\n",
        "\n",
        "optimizer = optim.SGD(kfa_model.parameters(), lr=learning_rate,\n",
        "                      momentum=momentum)\n",
        "log = True\n",
        "test_acc = []"
      ],
      "execution_count": 0,
      "outputs": []
    },
    {
      "metadata": {
        "scrolled": true,
        "id": "1yJinBl4xBWk",
        "colab_type": "code",
        "colab": {}
      },
      "cell_type": "code",
      "source": [
        "for n_datasets, train_loader in enumerate(train_datasets[:10], 1):\n",
        "    kfa_model.train()\n",
        "    # standart training\n",
        "    for epoch in range(5):\n",
        "        for batch_idx, (data, target) in enumerate(train_loader):\n",
        "            optimizer.zero_grad()\n",
        "\n",
        "            output = kfa_model(data.view(len(data), -1).cuda())\n",
        "            criteriton = nn.CrossEntropyLoss()\n",
        "            ce_loss = criteriton(output, target.cuda())\n",
        "            kfa_loss = calc_kfa_loss()\n",
        "            loss = ce_loss + 3 * kfa_loss\n",
        "#             loss = ce_loss\n",
        "\n",
        "            loss.backward()\n",
        "            optimizer.step()\n",
        "\n",
        "            if log and batch_idx % log_interval == 0:\n",
        "                print('Train Epoch: {} [{}/{} ({:.0f}%)]\\tLoss: {:.6f}'.format(\n",
        "                    epoch, batch_idx * len(data), len(train_loader.dataset),\n",
        "                    100. * batch_idx / len(train_loader), kfa_loss.item()))\n",
        "    \n",
        "        test_acc.append(test(kfa_model, test_datasets[:n_datasets]))\n",
        "    \n",
        "#     update cycle\n",
        "    n_data = 0\n",
        "    kfa_model.store_factors = True\n",
        "    prev_H = [] #kfa_model.H_factors.clone()\n",
        "    prev_Q = [] #kfa_model.Q_factors.clone()\n",
        "    for ind in range(len(kfa_model.H_factors)):\n",
        "        prev_H.append(kfa_model.H_factors[ind].data.clone().detach())\n",
        "        prev_Q.append(kfa_model.Q_factors[ind].data.clone().detach())\n",
        "    \n",
        "    for data, target in tqdm(train_loader):\n",
        "#         print(prev_Q)\n",
        "        kfa_model.WB_factors = []\n",
        "        for layer in kfa_model.layers:\n",
        "            if isinstance(layer, nn.Linear):\n",
        "                kfa_model.WB_factors.append(torch.zeros(layer.in_features, layer.in_features))\n",
        "\n",
        "        data = data.view(-1, 28 * 28).cuda()\n",
        "        output = kfa_model(data)\n",
        "\n",
        "        # backward\n",
        "        E = F.cross_entropy(output, target.cuda())\n",
        "        dE_dh = autograd.grad(E, output, create_graph=True)[0]\n",
        "        H_L = torch.stack([autograd.grad(dE_dhi, output, retain_graph=True)[0][0] for dE_dhi in dE_dh[0]])\n",
        "    #     print(H_L.shape)\n",
        "        # in reversed order\n",
        "        H_factors = [H_L]\n",
        "\n",
        "        for ind, BW_t in enumerate(reversed(kfa_model.WB_factors[1:])):\n",
        "            H_next = H_factors[-1]\n",
        "    #         print(BW_t.shape, H_next.shape)\n",
        "            H_factors.append(BW_t @ H_next @ torch.transpose(BW_t, dim1=0, dim0=1))\n",
        "#             if torch.all(torch.eig(kfa_model.H_factors[-1])[0][:, 0] > 0) == 0:\n",
        "#                 print(BW_t)\n",
        "#                 break\n",
        "        for l, Hl in enumerate(reversed(H_factors)):\n",
        "            kfa_model.H_factors[l] += Hl\n",
        "\n",
        "        n_data += len(data)\n",
        "#         break\n",
        "\n",
        "    for ind in range(len(kfa_model.Q_factors)):\n",
        "        kfa_model.Q_factors[ind] /= n_data\n",
        "        kfa_model.Q_factors[ind] += prev_Q[ind]\n",
        "        kfa_model.H_factors[ind] /= n_data\n",
        "        kfa_model.H_factors[ind] += prev_H[ind]\n",
        "\n",
        "    kfa_model.prev_W = []\n",
        "    for layer in kfa_model.layers:\n",
        "        if isinstance(layer, nn.Linear):\n",
        "            kfa_model.prev_W.append(layer.weight.data.clone())\n",
        "    # end of Q, H update. Don't change during other cycle\n",
        "    kfa_model.store_factors = False\n",
        "    \n",
        "\n",
        "\n",
        "    \n",
        "    "
      ],
      "execution_count": 0,
      "outputs": []
    },
    {
      "metadata": {
        "id": "IlUri_6QxBWy",
        "colab_type": "code",
        "colab": {
          "base_uri": "https://localhost:8080/",
          "height": 286
        },
        "outputId": "ac5badb1-bcbd-43db-8264-fdf0576205a8"
      },
      "cell_type": "code",
      "source": [
        "plt.plot(test_acc_wl, label=\"KFA, lambda = 1\")\n",
        "plt.plot(test_acc_5, label=\"KFA, lambda = 3\")\n",
        "plt.plot(test_acc_without_loss, label=\"online learning\")\n",
        "plt.legend()"
      ],
      "execution_count": 53,
      "outputs": [
        {
          "output_type": "execute_result",
          "data": {
            "text/plain": [
              "<matplotlib.legend.Legend at 0x7f0f7012ed30>"
            ]
          },
          "metadata": {
            "tags": []
          },
          "execution_count": 53
        },
        {
          "output_type": "display_data",
          "data": {
            "image/png": "[encoded data removed]",
            "text/plain": [
              "<Figure size 432x288 with 1 Axes>"
            ]
          },
          "metadata": {
            "tags": []
          }
        }
      ]
    }
  ]
}